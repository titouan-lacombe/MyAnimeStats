{
 "cells": [
  {
   "cell_type": "markdown",
   "metadata": {},
   "source": [
    "# MyAnimeStats\n",
    "\n",
    "Explore insightful statistics about a [MyAnimeList](https://myanimelist.net/) user list.\n",
    "\n",
    "### List Import"
   ]
  },
  {
   "cell_type": "code",
   "execution_count": null,
   "metadata": {},
   "outputs": [],
   "source": [
    "import httpx\n",
    "from pathlib import Path\n",
    "from rich import print\n",
    "from src.jupyter_utils import *\n",
    "from src.user_list import UserList\n",
    "from src.actions import get_user_animes\n",
    "from src.franchises import get_user_franchises\n",
    "\n",
    "data = Path('data')\n",
    "user_list_xml_path = data / 'animelist.xml.gz'\n",
    "# anime_db_path = data / 'anime_db.parquet'\n",
    "anime_db_path = data / 'anime_db.franchise.parquet'\n",
    "# manga_db_path = data / 'manga_db.parquet'\n",
    "character_db_path = data / 'character_db.parquet'\n",
    "people_db_path = data / 'people_db.parquet'\n",
    "\n",
    "cache = data / 'cache'\n",
    "cache.mkdir(exist_ok=True)\n",
    "user_name_cache = cache / 'user_name.txt'\n",
    "user_list_cache = cache / 'user_list.parquet'\n",
    "\n",
    "if not anime_db_path.exists():\n",
    "\traise Exception(f\"Missing anime_db {anime_db_path}\")\n",
    "\n",
    "def get_user_name():\n",
    "\tif user_name_cache.exists():\n",
    "\t\tprint(f\"[green]Loading user_name from cache {user_name_cache}[/green]\")\n",
    "\t\treturn user_name_cache.read_text().strip()\n",
    "\tprint(f\"[red]Failed to load user_name from cache {user_name_cache}[/red]\")\n",
    "\n",
    "\tuser = input('Enter your MAL user_name: ')\n",
    "\tif user != '':\n",
    "\t\tprint(f\"[green]Got user_name from user input, saving to cache {user_name_cache}[/green]\") \n",
    "\t\tuser_name_cache.write_text(user)\n",
    "\t\treturn user\n",
    "\tprint(\"[red]Failed to get user_name from user input[/red]\")\n",
    "\n",
    "\treturn None\n",
    "\n",
    "async def get_user_list():\n",
    "\tif user_list_cache.exists():\n",
    "\t\tprint(f\"[green]Loading user_list from cache {user_list_cache}[/green]\")\n",
    "\t\treturn pl.read_parquet(user_list_cache)\n",
    "\tprint(f\"[red]Failed to load user_list from cache {user_list_cache}[/red]\")\n",
    "\n",
    "\tif user_list_xml_path.exists():\n",
    "\t\tprint(f\"[green]Loading user_list from MAL export {user_list_xml_path}[/green]\")\n",
    "\t\tuser_list = UserList.from_xml(user_list_xml_path)\n",
    "\t\t# user_list.write_parquet(user_list_cache)\n",
    "\t\treturn user_list\n",
    "\tprint(f\"[red]Failed to load user_list from MAL export {user_list_xml_path}[/red]\")\n",
    "\n",
    "\tuser_name = get_user_name()\n",
    "\tif user_name:\n",
    "\t\tprint(f\"[green]Scraping user_list from MAL user_name {user_name}[/green]\")\n",
    "\t\tasync with httpx.AsyncClient() as client:\n",
    "\t\t\tuser_list = await UserList.from_user_name(client, user_name)\n",
    "\t\t\tuser_list.write_parquet(user_list_cache)\n",
    "\t\t\treturn user_list\n",
    "\tprint(\"[red]Failed to get user_name to scrape user_list[/red]\")\n",
    "\n",
    "\traise Exception(f\"Failed to get user_list, need {user_list_xml_path} or user_name\")\n",
    "\n",
    "user_list = await get_user_list()\n",
    "\n",
    "user_animes = get_user_animes(user_list, anime_db_path)\n",
    "describe(user_animes, \"User Animes\")\n",
    "\n",
    "user_franchises = get_user_franchises(user_animes)\n",
    "print(f\"[green]Found {user_franchises.height} franchises[/green]\")\n",
    "describe(user_franchises, \"User Franchises\")"
   ]
  },
  {
   "cell_type": "markdown",
   "metadata": {},
   "source": [
    "### List Analysis"
   ]
  },
  {
   "cell_type": "code",
   "execution_count": null,
   "metadata": {},
   "outputs": [],
   "source": [
    "import tzlocal\n",
    "from src.actions import get_stats\n",
    "\n",
    "# Get local timezone\n",
    "local_tz = tzlocal.get_localzone_name()\n",
    "print(f\"[green]Detected local timezone: {local_tz}[/green]\")\n",
    "\n",
    "stats = get_stats(user_animes, user_franchises, local_tz)\n",
    "\n",
    "for name, stat in stats.items():\n",
    "\tprint_df(stat, name)"
   ]
  }
 ],
 "metadata": {
  "kernelspec": {
   "display_name": "mal-scrapper-RBqY7ukF",
   "language": "python",
   "name": "python3"
  },
  "language_info": {
   "codemirror_mode": {
    "name": "ipython",
    "version": 3
   },
   "file_extension": ".py",
   "mimetype": "text/x-python",
   "name": "python",
   "nbconvert_exporter": "python",
   "pygments_lexer": "ipython3",
   "version": "3.11.6"
  }
 },
 "nbformat": 4,
 "nbformat_minor": 2
}
