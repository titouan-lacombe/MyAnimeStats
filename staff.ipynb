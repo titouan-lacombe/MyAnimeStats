{
 "cells": [
  {
   "cell_type": "markdown",
   "metadata": {},
   "source": [
    "# Who is behind your favorite animes?"
   ]
  },
  {
   "cell_type": "code",
   "execution_count": null,
   "metadata": {},
   "outputs": [],
   "source": [
    "import gzip, json, pprint, time\n",
    "from jikanpy import AioJikan\n",
    "from pathlib import Path\n",
    "\n",
    "data = Path('data')\n",
    "cache = data / '.cache'\n",
    "\n",
    "with gzip.open(data / \"animes.json.gz\", \"r\") as read_file:\n",
    "\tanimes = json.loads(read_file.read().decode('utf-8'))\n",
    "\n",
    "# Discard plan to watch anime\n",
    "# Optional: Select with score > X\n",
    "\n",
    "def filter_anime(anime):\n",
    "\treturn anime[\"my_status\"] != \"Plan to Watch\"\n",
    "\n",
    "animes = {anime[\"mal_id\"]: anime for anime in animes if filter_anime(anime)}"
   ]
  },
  {
   "cell_type": "code",
   "execution_count": null,
   "metadata": {},
   "outputs": [],
   "source": [
    "async def fetch_staff(anime, jikan: AioJikan):\n",
    "\tanime_id = anime['mal_id']\n",
    "\n",
    "\tcache_file = cache / \"anime_staff\" / f\"{anime_id}.json\"\n",
    "\tif cache_file.exists():\n",
    "\t\t# print(\"Using cached data\")\n",
    "\t\tresponse = json.load(cache_file.open())\n",
    "\t\treturn response\n",
    "\n",
    "\tresponse = await jikan.anime(anime_id, extension='staff')\n",
    "\ttime.sleep(1.1)  # Sleep to avoid rate limiting\n",
    "\t\n",
    "\t# If anime finished airing, cache the data\n",
    "\tif anime['status'] == 'Finished Airing':\n",
    "\t\t# print(\"Caching data\")\n",
    "\t\tcache_file.parent.mkdir(parents=True, exist_ok=True)\n",
    "\t\tjson.dump(response, cache_file.open('w'))\n",
    "\n",
    "\treturn response\n",
    "\n",
    "async def fetch_characters(anime, jikan: AioJikan):\n",
    "\tanime_id = anime['mal_id']\n",
    "\n",
    "\tcached = cache / \"anime_characters\" / f\"{anime_id}.json\"\n",
    "\tif cached.exists():\n",
    "\t\t# print(\"Using cached data\")\n",
    "\t\tresponse = json.load(cached.open())\n",
    "\t\treturn response\n",
    "\t\n",
    "\tresponse = await jikan.anime(anime_id, extension='characters')\n",
    "\ttime.sleep(1.1)  # Sleep to avoid rate limiting\n",
    "\n",
    "\t# If anime finished airing, cache the data\n",
    "\tif anime['status'] == 'Finished Airing':\n",
    "\t\t# print(\"Caching data\")\n",
    "\t\tcached.parent.mkdir(parents=True, exist_ok=True)\n",
    "\t\tjson.dump(response, cached.open('w'))\n",
    "\n",
    "\treturn response"
   ]
  },
  {
   "cell_type": "code",
   "execution_count": null,
   "metadata": {},
   "outputs": [],
   "source": [
    "# Recover all people that worked on watched animes\n",
    "from tqdm import tqdm\n",
    "\n",
    "peoples = {}\n",
    "\n",
    "def add_people(people, anime_id, positions):\n",
    "\tif people['mal_id'] not in peoples:\n",
    "\t\tpeoples[people['mal_id']] = people\n",
    "\t\tpeoples[people['mal_id']]['animes'] = {}\n",
    "\n",
    "\tanimes = peoples[people['mal_id']]['animes']\n",
    "\tif anime_id not in animes:\n",
    "\t\tanimes[anime_id] = []\n",
    "\t\n",
    "\tanimes[anime_id].extend(positions)\n",
    "\n",
    "async with AioJikan() as aio_jikan:\n",
    "\tfor anime in tqdm(animes.values()):\n",
    "\t\tstaff = await fetch_staff(anime, aio_jikan)\n",
    "\t\tfor staff_member in staff['data']:\n",
    "\t\t\tadd_people(staff_member['person'], anime['mal_id'], staff_member['positions'])\n",
    "\n",
    "\t\tcharacters = await fetch_characters(anime, aio_jikan)\n",
    "\t\tfor character in characters['data']:\n",
    "\t\t\tfor voice_actor in character['voice_actors']:\n",
    "\t\t\t\tif voice_actor['language'] != 'Japanese':\n",
    "\t\t\t\t\tcontinue\n",
    "\t\t\t\tadd_people(voice_actor['person'], anime['mal_id'], [f\"{character['character']['name']} VA\"])\n",
    "\n",
    "print(f\"Found {len(peoples)} people\")"
   ]
  },
  {
   "cell_type": "code",
   "execution_count": null,
   "metadata": {},
   "outputs": [],
   "source": [
    "# Only display people with more than X works\n",
    "def filter_people(people):\n",
    "\treturn len(people['animes']) > 1\n",
    "\n",
    "peoples = {mal_id: people for mal_id, people in peoples.items() if filter_people(people)}\n",
    "\n",
    "# TODO order anime by airing date (to reflect artist evolution)\n",
    "for people in peoples.values():\n",
    "\tprint(f\"\\n{people['name']}:\")\n",
    "\tfor anime_id, positions in people['animes'].items():\n",
    "\t\tanime = animes[anime_id]\n",
    "\t\tanime_title = anime['title_english'] or anime['title']\n",
    "\t\tprint(f\"{anime_title}: {', '.join(positions)}\")\n"
   ]
  }
 ],
 "metadata": {
  "kernelspec": {
   "display_name": "myanimestats-ScZBfrK1",
   "language": "python",
   "name": "python3"
  },
  "language_info": {
   "codemirror_mode": {
    "name": "ipython",
    "version": 3
   },
   "file_extension": ".py",
   "mimetype": "text/x-python",
   "name": "python",
   "nbconvert_exporter": "python",
   "pygments_lexer": "ipython3",
   "version": "3.12.0"
  }
 },
 "nbformat": 4,
 "nbformat_minor": 2
}
