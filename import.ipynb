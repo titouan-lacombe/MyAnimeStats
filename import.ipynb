{
 "cells": [
  {
   "cell_type": "code",
   "execution_count": 3,
   "metadata": {},
   "outputs": [],
   "source": [
    "import json, xmltodict, time, copy\n",
    "from tqdm import tqdm\n",
    "from jikanpy import AioJikan\n",
    "from pathlib import Path\n",
    "from pprint import pprint\n",
    "\n",
    "data = Path('data')"
   ]
  },
  {
   "cell_type": "code",
   "execution_count": 4,
   "metadata": {},
   "outputs": [
    {
     "name": "stdout",
     "output_type": "stream",
     "text": [
      "{'my_comments': None,\n",
      " 'my_discuss': '1',\n",
      " 'my_finish_date': '2023-06-28',\n",
      " 'my_id': '0',\n",
      " 'my_priority': 'LOW',\n",
      " 'my_rated': None,\n",
      " 'my_rewatch_value': None,\n",
      " 'my_rewatching': '0',\n",
      " 'my_rewatching_ep': '0',\n",
      " 'my_score': '10',\n",
      " 'my_sns': 'default',\n",
      " 'my_start_date': '0000-00-00',\n",
      " 'my_status': 'Completed',\n",
      " 'my_storage': None,\n",
      " 'my_storage_value': '0.00',\n",
      " 'my_tags': None,\n",
      " 'my_times_watched': '0',\n",
      " 'my_watched_episodes': '11',\n",
      " 'series_animedb_id': '52034',\n",
      " 'series_episodes': '11',\n",
      " 'series_title': '\"Oshi no Ko\"',\n",
      " 'series_type': 'TV',\n",
      " 'update_on_import': '0'}\n"
     ]
    }
   ],
   "source": [
    "# Load the animelist data XML file and convert to dict\n",
    "xml_data = (data / 'animelist.xml').read_text()\n",
    "animelist_data = xmltodict.parse(xml_data)['myanimelist']\n",
    "\n",
    "# Print first entry\n",
    "pprint(animelist_data['anime'][0])"
   ]
  },
  {
   "cell_type": "code",
   "execution_count": 5,
   "metadata": {},
   "outputs": [],
   "source": [
    "# MAL data\n",
    "anime_key_map = {\n",
    "\t'my_watched_episodes': int,\n",
    "\t'my_start_date': None,\n",
    "\t'my_finish_date': None,\n",
    "\t'my_rated': None,\n",
    "\t'my_score': int,\n",
    "\t'my_storage': None,\n",
    "\t'my_storage_value': None,\n",
    "\t'my_status': None,\n",
    "\t'my_comments': None,\n",
    "\t'my_times_watched': int,\n",
    "\t'my_rewatch_value': None,\n",
    "\t'my_priority': None,\n",
    "\t'my_tags': None,\n",
    "\t'my_rewatching': int,\n",
    "\t'my_rewatching_ep': int,\n",
    "\t'my_discuss': int,\n",
    "\t'my_sns': None,\n",
    "}\n",
    "\n",
    "# Jikan API data\n",
    "details_key_map = {\n",
    "\t'mal_id': int,\n",
    "\t'url': None,\n",
    "\t'images': None,\n",
    "\t'trailer': None,\n",
    "\t'approved': None,\n",
    "\t'title': None,\n",
    "\t'title_english': None,\n",
    "\t'title_japanese': None,\n",
    "\t'title_synonyms': None,\n",
    "\t'type': None,\n",
    "\t'source': None,\n",
    "\t'episodes': None,\n",
    "\t'status': None,\n",
    "\t'airing': None,\n",
    "\t'aired': None,\n",
    "\t'duration': None,\n",
    "\t'rating': None,\n",
    "\t'score': None,\n",
    "\t'scored_by': None,\n",
    "\t'rank': None,\n",
    "\t'popularity': None,\n",
    "\t'members': None,\n",
    "\t'favorites': None,\n",
    "\t'synopsis': None,\n",
    "\t'background': None,\n",
    "\t'season': None,\n",
    "\t'year': None,\n",
    "\t'broadcast': None,\n",
    "\t'producers': None,\n",
    "\t'licensors': None,\n",
    "\t'studios': None,\n",
    "\t'genres': None,\n",
    "\t'explicit_genres': None,\n",
    "\t'themes': None,\n",
    "\t'demographics': None,\n",
    "}\n",
    "\n",
    "def clean_fields(data: dict, fields: dict):\n",
    "\tfor field in list(data.keys()):  # Iterate over a copy of the keys\n",
    "\t\tif field not in fields:\n",
    "\t\t\tdel data[field]\n",
    "\t\telif isinstance(data[field], dict) and isinstance(fields[field], dict):\n",
    "\t\t\tclean_fields(data[field], fields[field])\n",
    "\t\telif fields[field] is not None and data[field] is not None:\n",
    "\t\t\tdata[field] = fields[field](data[field])\n",
    "\n",
    "def complete_anime(anime: dict, details: dict):\n",
    "\t# Define key map for necessary fields and their corresponding types\n",
    "\tdetails_copy = copy.deepcopy(details)\n",
    "\tclean_fields(details_copy, details_key_map)\n",
    "\tanime_copy = copy.deepcopy(anime)\n",
    "\tclean_fields(anime_copy, anime_key_map)\n",
    "\n",
    "\t# Create complete anime object\n",
    "\tcomplete_anime = {**details_copy, **anime_copy}\n",
    "\n",
    "\treturn complete_anime"
   ]
  },
  {
   "cell_type": "code",
   "execution_count": 6,
   "metadata": {},
   "outputs": [
    {
     "name": "stdout",
     "output_type": "stream",
     "text": [
      "Fetching details for \"Oshi no Ko\" (52034)\n",
      "{'aired': {'from': '2023-04-12T00:00:00+00:00',\n",
      "           'prop': {'from': {'day': 12, 'month': 4, 'year': 2023},\n",
      "                    'to': {'day': 28, 'month': 6, 'year': 2023}},\n",
      "           'string': 'Apr 12, 2023 to Jun 28, 2023',\n",
      "           'to': '2023-06-28T00:00:00+00:00'},\n",
      " 'airing': False,\n",
      " 'approved': True,\n",
      " 'background': None,\n",
      " 'broadcast': {'day': 'Wednesdays',\n",
      "               'string': 'Wednesdays at 23:00 (JST)',\n",
      "               'time': '23:00',\n",
      "               'timezone': 'Asia/Tokyo'},\n",
      " 'demographics': [{'mal_id': 42,\n",
      "                   'name': 'Seinen',\n",
      "                   'type': 'anime',\n",
      "                   'url': 'https://myanimelist.net/anime/genre/42/Seinen'}],\n",
      " 'duration': '30 min per ep',\n",
      " 'episodes': 11,\n",
      " 'explicit_genres': [],\n",
      " 'favorites': 23559,\n",
      " 'genres': [{'mal_id': 8,\n",
      "             'name': 'Drama',\n",
      "             'type': 'anime',\n",
      "             'url': 'https://myanimelist.net/anime/genre/8/Drama'},\n",
      "            {'mal_id': 37,\n",
      "             'name': 'Supernatural',\n",
      "             'type': 'anime',\n",
      "             'url': 'https://myanimelist.net/anime/genre/37/Supernatural'}],\n",
      " 'images': {'jpg': {'image_url': 'https://cdn.myanimelist.net/images/anime/1812/134736.jpg',\n",
      "                    'large_image_url': 'https://cdn.myanimelist.net/images/anime/1812/134736l.jpg',\n",
      "                    'small_image_url': 'https://cdn.myanimelist.net/images/anime/1812/134736t.jpg'},\n",
      "            'webp': {'image_url': 'https://cdn.myanimelist.net/images/anime/1812/134736.webp',\n",
      "                     'large_image_url': 'https://cdn.myanimelist.net/images/anime/1812/134736l.webp',\n",
      "                     'small_image_url': 'https://cdn.myanimelist.net/images/anime/1812/134736t.webp'}},\n",
      " 'licensors': [{'mal_id': 376,\n",
      "                'name': 'Sentai Filmworks',\n",
      "                'type': 'anime',\n",
      "                'url': 'https://myanimelist.net/anime/producer/376/Sentai_Filmworks'}],\n",
      " 'mal_id': 52034,\n",
      " 'members': 609983,\n",
      " 'my_comments': None,\n",
      " 'my_discuss': 1,\n",
      " 'my_finish_date': '2023-06-28',\n",
      " 'my_priority': 'LOW',\n",
      " 'my_rated': None,\n",
      " 'my_rewatch_value': None,\n",
      " 'my_rewatching': 0,\n",
      " 'my_rewatching_ep': 0,\n",
      " 'my_score': 10,\n",
      " 'my_sns': 'default',\n",
      " 'my_start_date': '0000-00-00',\n",
      " 'my_status': 'Completed',\n",
      " 'my_storage': None,\n",
      " 'my_storage_value': '0.00',\n",
      " 'my_tags': None,\n",
      " 'my_times_watched': 0,\n",
      " 'my_watched_episodes': 11,\n",
      " 'popularity': 330,\n",
      " 'producers': [{'mal_id': 1365,\n",
      "                'name': 'Shueisha',\n",
      "                'type': 'anime',\n",
      "                'url': 'https://myanimelist.net/anime/producer/1365/Shueisha'},\n",
      "               {'mal_id': 1422,\n",
      "                'name': 'CyberAgent',\n",
      "                'type': 'anime',\n",
      "                'url': 'https://myanimelist.net/anime/producer/1422/CyberAgent'},\n",
      "               {'mal_id': 1696,\n",
      "                'name': 'Kadokawa',\n",
      "                'type': 'anime',\n",
      "                'url': 'https://myanimelist.net/anime/producer/1696/Kadokawa'}],\n",
      " 'rank': 30,\n",
      " 'rating': 'PG-13 - Teens 13 or older',\n",
      " 'score': 8.83,\n",
      " 'scored_by': 324708,\n",
      " 'season': 'spring',\n",
      " 'source': 'Manga',\n",
      " 'status': 'Finished Airing',\n",
      " 'studios': [{'mal_id': 95,\n",
      "              'name': 'Doga Kobo',\n",
      "              'type': 'anime',\n",
      "              'url': 'https://myanimelist.net/anime/producer/95/Doga_Kobo'}],\n",
      " 'synopsis': 'In the entertainment world, celebrities often show exaggerated '\n",
      "             'versions of themselves to the public, concealing their true '\n",
      "             'thoughts and struggles beneath elaborate lies. Fans buy into '\n",
      "             'these fabrications, showering their idols with undying love and '\n",
      "             'support, until something breaks the illusion. Sixteen-year-old '\n",
      "             'rising star Ai Hoshino of pop idol group B Komachi has the world '\n",
      "             'captivated; however, when she announces a hiatus due to health '\n",
      "             'concerns, the news causes many to become worried.\\n'\n",
      "             '\\n'\n",
      "             'As a huge fan of Ai, gynecologist Gorou Amemiya cheers her on '\n",
      "             'from his countryside medical practice, wishing he could meet her '\n",
      "             'in person one day. His wish comes true when Ai shows up at his '\n",
      "             'hospital—not sick, but pregnant with twins! While the doctor '\n",
      "             'promises Ai to safely deliver her children, he wonders if this '\n",
      "             'encounter with the idol will forever change the nature of his '\n",
      "             'relationship with her.\\n'\n",
      "             '\\n'\n",
      "             '[Written by MAL Rewrite]',\n",
      " 'themes': [{'mal_id': 72,\n",
      "             'name': 'Reincarnation',\n",
      "             'type': 'anime',\n",
      "             'url': 'https://myanimelist.net/anime/genre/72/Reincarnation'},\n",
      "            {'mal_id': 75,\n",
      "             'name': 'Showbiz',\n",
      "             'type': 'anime',\n",
      "             'url': 'https://myanimelist.net/anime/genre/75/Showbiz'}],\n",
      " 'title': '\"Oshi no Ko\"',\n",
      " 'title_english': '[Oshi No Ko]',\n",
      " 'title_japanese': '【推しの子】',\n",
      " 'title_synonyms': ['My Star'],\n",
      " 'trailer': {'embed_url': 'https://www.youtube.com/embed/1yXa8MAmocQ?enablejsapi=1&wmode=opaque&autoplay=1',\n",
      "             'images': {'image_url': 'https://img.youtube.com/vi/1yXa8MAmocQ/default.jpg',\n",
      "                        'large_image_url': 'https://img.youtube.com/vi/1yXa8MAmocQ/hqdefault.jpg',\n",
      "                        'maximum_image_url': 'https://img.youtube.com/vi/1yXa8MAmocQ/maxresdefault.jpg',\n",
      "                        'medium_image_url': 'https://img.youtube.com/vi/1yXa8MAmocQ/mqdefault.jpg',\n",
      "                        'small_image_url': 'https://img.youtube.com/vi/1yXa8MAmocQ/sddefault.jpg'},\n",
      "             'url': 'https://www.youtube.com/watch?v=1yXa8MAmocQ',\n",
      "             'youtube_id': '1yXa8MAmocQ'},\n",
      " 'type': 'TV',\n",
      " 'url': 'https://myanimelist.net/anime/52034/Oshi_no_Ko',\n",
      " 'year': 2023}\n"
     ]
    }
   ],
   "source": [
    "async def fetch_and_complete_anime(anime: dict):\n",
    "\tanime_id = int(anime['series_animedb_id'])\n",
    "\t# print(f\"Fetching details for {anime['series_title']} ({anime_id})\")\n",
    "\tdetails = await aio_jikan.anime(anime_id)\n",
    "\tdetails = details[\"data\"]\n",
    "\treturn complete_anime(anime, details)\n",
    "\n",
    "# Complete the first anime and print the result\n",
    "async with AioJikan() as aio_jikan:\n",
    "\tresult = await fetch_and_complete_anime(animelist_data[\"anime\"][0])\n",
    "pprint(result)"
   ]
  },
  {
   "cell_type": "code",
   "execution_count": 8,
   "metadata": {},
   "outputs": [
    {
     "name": "stderr",
     "output_type": "stream",
     "text": [
      "  0%|          | 0/207 [00:00<?, ?it/s]"
     ]
    },
    {
     "name": "stdout",
     "output_type": "stream",
     "text": [
      "Fetching details for \"Oshi no Ko\" (52034)\n"
     ]
    },
    {
     "name": "stderr",
     "output_type": "stream",
     "text": [
      "  0%|          | 1/207 [00:01<04:32,  1.32s/it]"
     ]
    },
    {
     "name": "stdout",
     "output_type": "stream",
     "text": [
      "Fetching details for \"Oshi no Ko\" Season 2 (55791)\n"
     ]
    },
    {
     "name": "stderr",
     "output_type": "stream",
     "text": [
      "  1%|          | 2/207 [00:02<04:12,  1.23s/it]"
     ]
    },
    {
     "name": "stdout",
     "output_type": "stream",
     "text": [
      "Fetching details for 3-gatsu no Lion (31646)\n"
     ]
    },
    {
     "name": "stderr",
     "output_type": "stream",
     "text": [
      "  1%|▏         | 3/207 [00:03<04:08,  1.22s/it]"
     ]
    },
    {
     "name": "stdout",
     "output_type": "stream",
     "text": [
      "Fetching details for 86 (41457)\n"
     ]
    },
    {
     "name": "stderr",
     "output_type": "stream",
     "text": [
      "\n"
     ]
    },
    {
     "ename": "CancelledError",
     "evalue": "",
     "output_type": "error",
     "traceback": [
      "\u001b[0;31m---------------------------------------------------------------------------\u001b[0m",
      "\u001b[0;31mCancelledError\u001b[0m                            Traceback (most recent call last)",
      "Cell \u001b[0;32mIn[8], line 5\u001b[0m\n\u001b[1;32m      3\u001b[0m \u001b[39masync\u001b[39;00m \u001b[39mwith\u001b[39;00m AioJikan() \u001b[39mas\u001b[39;00m aio_jikan:\n\u001b[1;32m      4\u001b[0m \t\u001b[39mfor\u001b[39;00m i, anime \u001b[39min\u001b[39;00m tqdm(\u001b[39mlist\u001b[39m(\u001b[39menumerate\u001b[39m(animelist_data[\u001b[39m'\u001b[39m\u001b[39manime\u001b[39m\u001b[39m'\u001b[39m]))):\n\u001b[0;32m----> 5\u001b[0m \t\tresult \u001b[39m=\u001b[39m \u001b[39mawait\u001b[39;00m fetch_and_complete_anime(anime)\n\u001b[1;32m      6\u001b[0m \t\tcompleted\u001b[39m.\u001b[39mappend(result)\n\u001b[1;32m      7\u001b[0m \t\ttime\u001b[39m.\u001b[39msleep(\u001b[39m1.1\u001b[39m)  \u001b[39m# Delay to ensure we don't exceed rate limit\u001b[39;00m\n",
      "Cell \u001b[0;32mIn[6], line 4\u001b[0m, in \u001b[0;36mfetch_and_complete_anime\u001b[0;34m(anime)\u001b[0m\n\u001b[1;32m      2\u001b[0m anime_id \u001b[39m=\u001b[39m \u001b[39mint\u001b[39m(anime[\u001b[39m'\u001b[39m\u001b[39mseries_animedb_id\u001b[39m\u001b[39m'\u001b[39m])\n\u001b[1;32m      3\u001b[0m \u001b[39mprint\u001b[39m(\u001b[39mf\u001b[39m\u001b[39m\"\u001b[39m\u001b[39mFetching details for \u001b[39m\u001b[39m{\u001b[39;00manime[\u001b[39m'\u001b[39m\u001b[39mseries_title\u001b[39m\u001b[39m'\u001b[39m]\u001b[39m}\u001b[39;00m\u001b[39m (\u001b[39m\u001b[39m{\u001b[39;00manime_id\u001b[39m}\u001b[39;00m\u001b[39m)\u001b[39m\u001b[39m\"\u001b[39m)\n\u001b[0;32m----> 4\u001b[0m details \u001b[39m=\u001b[39m \u001b[39mawait\u001b[39;00m aio_jikan\u001b[39m.\u001b[39manime(anime_id)\n\u001b[1;32m      5\u001b[0m details \u001b[39m=\u001b[39m details[\u001b[39m\"\u001b[39m\u001b[39mdata\u001b[39m\u001b[39m\"\u001b[39m]\n\u001b[1;32m      6\u001b[0m \u001b[39mreturn\u001b[39;00m complete_anime(anime, details)\n",
      "File \u001b[0;32m~/.local/share/virtualenvs/myanimestats-ScZBfrK1/lib64/python3.11/site-packages/jikanpy/aiojikan.py:160\u001b[0m, in \u001b[0;36mAioJikan.anime\u001b[0;34m(self, id, extension, page)\u001b[0m\n\u001b[1;32m    135\u001b[0m \u001b[39masync\u001b[39;00m \u001b[39mdef\u001b[39;00m \u001b[39manime\u001b[39m(\n\u001b[1;32m    136\u001b[0m     \u001b[39mself\u001b[39m,\n\u001b[1;32m    137\u001b[0m     \u001b[39mid\u001b[39m: \u001b[39mint\u001b[39m,\n\u001b[1;32m    138\u001b[0m     extension: Optional[\u001b[39mstr\u001b[39m] \u001b[39m=\u001b[39m \u001b[39mNone\u001b[39;00m,\n\u001b[1;32m    139\u001b[0m     page: Optional[\u001b[39mint\u001b[39m] \u001b[39m=\u001b[39m \u001b[39mNone\u001b[39;00m,\n\u001b[1;32m    140\u001b[0m ) \u001b[39m-\u001b[39m\u001b[39m>\u001b[39m Dict[\u001b[39mstr\u001b[39m, Any]:\n\u001b[1;32m    141\u001b[0m \u001b[39m    \u001b[39m\u001b[39m\"\"\"Gets information on an anime.\u001b[39;00m\n\u001b[1;32m    142\u001b[0m \n\u001b[1;32m    143\u001b[0m \u001b[39m    Args:\u001b[39;00m\n\u001b[0;32m   (...)\u001b[0m\n\u001b[1;32m    158\u001b[0m \u001b[39m        >>> await jikan.anime(14719, extension='news')\u001b[39;00m\n\u001b[1;32m    159\u001b[0m \u001b[39m    \"\"\"\u001b[39;00m\n\u001b[0;32m--> 160\u001b[0m     \u001b[39mreturn\u001b[39;00m \u001b[39mawait\u001b[39;00m \u001b[39mself\u001b[39m\u001b[39m.\u001b[39m_get(\u001b[39m\"\u001b[39m\u001b[39manime\u001b[39m\u001b[39m\"\u001b[39m, \u001b[39mid\u001b[39m, extension, page)\n",
      "File \u001b[0;32m~/.local/share/virtualenvs/myanimestats-ScZBfrK1/lib64/python3.11/site-packages/jikanpy/aiojikan.py:133\u001b[0m, in \u001b[0;36mAioJikan._get\u001b[0;34m(self, endpoint, id, extension, page)\u001b[0m\n\u001b[1;32m    129\u001b[0m \u001b[39m\u001b[39m\u001b[39m\"\"\"Gets the response from Jikan API given the endpoint:\u001b[39;00m\n\u001b[1;32m    130\u001b[0m \u001b[39manime, manga, character, person, club\u001b[39;00m\n\u001b[1;32m    131\u001b[0m \u001b[39m\"\"\"\u001b[39;00m\n\u001b[1;32m    132\u001b[0m url \u001b[39m=\u001b[39m utils\u001b[39m.\u001b[39mget_main_url(\u001b[39mself\u001b[39m\u001b[39m.\u001b[39mbase, endpoint, \u001b[39mid\u001b[39m, extension, page)\n\u001b[0;32m--> 133\u001b[0m \u001b[39mreturn\u001b[39;00m \u001b[39mawait\u001b[39;00m \u001b[39mself\u001b[39m\u001b[39m.\u001b[39m_request(url, \u001b[39mid\u001b[39m\u001b[39m=\u001b[39m\u001b[39mid\u001b[39m, endpoint\u001b[39m=\u001b[39mendpoint)\n",
      "File \u001b[0;32m~/.local/share/virtualenvs/myanimestats-ScZBfrK1/lib64/python3.11/site-packages/jikanpy/aiojikan.py:119\u001b[0m, in \u001b[0;36mAioJikan._request\u001b[0;34m(self, url, **kwargs)\u001b[0m\n\u001b[1;32m    117\u001b[0m \u001b[39m\u001b[39m\u001b[39m\"\"\"Makes a request to the Jikan API given the url and wraps the response.\"\"\"\u001b[39;00m\n\u001b[1;32m    118\u001b[0m session \u001b[39m=\u001b[39m \u001b[39mawait\u001b[39;00m \u001b[39mself\u001b[39m\u001b[39m.\u001b[39m_get_session()\n\u001b[0;32m--> 119\u001b[0m response \u001b[39m=\u001b[39m \u001b[39mawait\u001b[39;00m session\u001b[39m.\u001b[39mget(url)\n\u001b[1;32m    120\u001b[0m \u001b[39mreturn\u001b[39;00m \u001b[39mawait\u001b[39;00m \u001b[39mself\u001b[39m\u001b[39m.\u001b[39m_wrap_response(response, url, \u001b[39m*\u001b[39m\u001b[39m*\u001b[39mkwargs)\n",
      "File \u001b[0;32m~/.local/share/virtualenvs/myanimestats-ScZBfrK1/lib64/python3.11/site-packages/aiohttp/client.py:560\u001b[0m, in \u001b[0;36mClientSession._request\u001b[0;34m(self, method, str_or_url, params, data, json, cookies, headers, skip_auto_headers, auth, allow_redirects, max_redirects, compress, chunked, expect100, raise_for_status, read_until_eof, proxy, proxy_auth, timeout, verify_ssl, fingerprint, ssl_context, ssl, proxy_headers, trace_request_ctx, read_bufsize)\u001b[0m\n\u001b[1;32m    558\u001b[0m resp \u001b[39m=\u001b[39m \u001b[39mawait\u001b[39;00m req\u001b[39m.\u001b[39msend(conn)\n\u001b[1;32m    559\u001b[0m \u001b[39mtry\u001b[39;00m:\n\u001b[0;32m--> 560\u001b[0m     \u001b[39mawait\u001b[39;00m resp\u001b[39m.\u001b[39mstart(conn)\n\u001b[1;32m    561\u001b[0m \u001b[39mexcept\u001b[39;00m \u001b[39mBaseException\u001b[39;00m:\n\u001b[1;32m    562\u001b[0m     resp\u001b[39m.\u001b[39mclose()\n",
      "File \u001b[0;32m~/.local/share/virtualenvs/myanimestats-ScZBfrK1/lib64/python3.11/site-packages/aiohttp/client_reqrep.py:899\u001b[0m, in \u001b[0;36mClientResponse.start\u001b[0;34m(self, connection)\u001b[0m\n\u001b[1;32m    897\u001b[0m \u001b[39mtry\u001b[39;00m:\n\u001b[1;32m    898\u001b[0m     protocol \u001b[39m=\u001b[39m \u001b[39mself\u001b[39m\u001b[39m.\u001b[39m_protocol\n\u001b[0;32m--> 899\u001b[0m     message, payload \u001b[39m=\u001b[39m \u001b[39mawait\u001b[39;00m protocol\u001b[39m.\u001b[39mread()  \u001b[39m# type: ignore[union-attr]\u001b[39;00m\n\u001b[1;32m    900\u001b[0m \u001b[39mexcept\u001b[39;00m http\u001b[39m.\u001b[39mHttpProcessingError \u001b[39mas\u001b[39;00m exc:\n\u001b[1;32m    901\u001b[0m     \u001b[39mraise\u001b[39;00m ClientResponseError(\n\u001b[1;32m    902\u001b[0m         \u001b[39mself\u001b[39m\u001b[39m.\u001b[39mrequest_info,\n\u001b[1;32m    903\u001b[0m         \u001b[39mself\u001b[39m\u001b[39m.\u001b[39mhistory,\n\u001b[0;32m   (...)\u001b[0m\n\u001b[1;32m    906\u001b[0m         headers\u001b[39m=\u001b[39mexc\u001b[39m.\u001b[39mheaders,\n\u001b[1;32m    907\u001b[0m     ) \u001b[39mfrom\u001b[39;00m \u001b[39mexc\u001b[39;00m\n",
      "File \u001b[0;32m~/.local/share/virtualenvs/myanimestats-ScZBfrK1/lib64/python3.11/site-packages/aiohttp/streams.py:616\u001b[0m, in \u001b[0;36mDataQueue.read\u001b[0;34m(self)\u001b[0m\n\u001b[1;32m    614\u001b[0m \u001b[39mself\u001b[39m\u001b[39m.\u001b[39m_waiter \u001b[39m=\u001b[39m \u001b[39mself\u001b[39m\u001b[39m.\u001b[39m_loop\u001b[39m.\u001b[39mcreate_future()\n\u001b[1;32m    615\u001b[0m \u001b[39mtry\u001b[39;00m:\n\u001b[0;32m--> 616\u001b[0m     \u001b[39mawait\u001b[39;00m \u001b[39mself\u001b[39m\u001b[39m.\u001b[39m_waiter\n\u001b[1;32m    617\u001b[0m \u001b[39mexcept\u001b[39;00m (asyncio\u001b[39m.\u001b[39mCancelledError, asyncio\u001b[39m.\u001b[39mTimeoutError):\n\u001b[1;32m    618\u001b[0m     \u001b[39mself\u001b[39m\u001b[39m.\u001b[39m_waiter \u001b[39m=\u001b[39m \u001b[39mNone\u001b[39;00m\n",
      "\u001b[0;31mCancelledError\u001b[0m: "
     ]
    }
   ],
   "source": [
    "# Complete anime data with Jikan API\n",
    "completed = []\n",
    "async with AioJikan() as aio_jikan:\n",
    "\tfor i, anime in tqdm(list(enumerate(animelist_data['anime']))):\n",
    "\t\tresult = await fetch_and_complete_anime(anime)\n",
    "\t\tcompleted.append(result)\n",
    "\t\ttime.sleep(1.1)  # Delay to ensure we don't exceed rate limit\n",
    "\n",
    "# Save the completed data to a JSON file\n",
    "with (data / 'data.json').open('w') as f:\n",
    "\tjson.dump(completed, f)"
   ]
  }
 ],
 "metadata": {
  "kernelspec": {
   "display_name": "Downloads-MKIMYYRW",
   "language": "python",
   "name": "python3"
  },
  "language_info": {
   "codemirror_mode": {
    "name": "ipython",
    "version": 3
   },
   "file_extension": ".py",
   "mimetype": "text/x-python",
   "name": "python",
   "nbconvert_exporter": "python",
   "pygments_lexer": "ipython3",
   "version": "3.11.4"
  },
  "orig_nbformat": 4
 },
 "nbformat": 4,
 "nbformat_minor": 2
}
