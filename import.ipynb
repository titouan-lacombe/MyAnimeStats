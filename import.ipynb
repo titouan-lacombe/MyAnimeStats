{
 "cells": [
  {
   "cell_type": "code",
   "execution_count": 2,
   "metadata": {},
   "outputs": [],
   "source": [
    "import json, xmltodict, time\n",
    "from tqdm import tqdm\n",
    "from jikanpy import AioJikan\n",
    "from pathlib import Path\n",
    "from pprint import pprint\n",
    "\n",
    "data = Path('data')"
   ]
  },
  {
   "cell_type": "code",
   "execution_count": 3,
   "metadata": {},
   "outputs": [
    {
     "name": "stdout",
     "output_type": "stream",
     "text": [
      "{'my_comments': None,\n",
      " 'my_discuss': '1',\n",
      " 'my_finish_date': '2023-06-28',\n",
      " 'my_id': '0',\n",
      " 'my_priority': 'LOW',\n",
      " 'my_rated': None,\n",
      " 'my_rewatch_value': None,\n",
      " 'my_rewatching': '0',\n",
      " 'my_rewatching_ep': '0',\n",
      " 'my_score': '10',\n",
      " 'my_sns': 'default',\n",
      " 'my_start_date': '0000-00-00',\n",
      " 'my_status': 'Completed',\n",
      " 'my_storage': None,\n",
      " 'my_storage_value': '0.00',\n",
      " 'my_tags': None,\n",
      " 'my_times_watched': '0',\n",
      " 'my_watched_episodes': '11',\n",
      " 'series_animedb_id': '52034',\n",
      " 'series_episodes': '11',\n",
      " 'series_title': '\"Oshi no Ko\"',\n",
      " 'series_type': 'TV',\n",
      " 'update_on_import': '0'}\n"
     ]
    }
   ],
   "source": [
    "# Load the animelist data XML file and convert to dict\n",
    "xml_data = (data / 'animelist.xml').read_text()\n",
    "animelist_data = xmltodict.parse(xml_data)['myanimelist']\n",
    "\n",
    "# Print first entry\n",
    "pprint(animelist_data['anime'][0])"
   ]
  },
  {
   "cell_type": "code",
   "execution_count": 4,
   "metadata": {},
   "outputs": [],
   "source": [
    "def complete_anime(anime: dict, details: dict):\n",
    "\tanime.update(details)\n",
    "\n",
    "\t# Define key map for necessary fields and their corresponding types\n",
    "\tkey_map = {\n",
    "\t\t# My data\n",
    "\t\t'my_watched_episodes': int,\n",
    "\t\t'my_start_date': None,\n",
    "\t\t'my_finish_date': None,\n",
    "\t\t'my_rated': None,\n",
    "\t\t'my_score': int,\n",
    "\t\t'my_storage': None,\n",
    "\t\t'my_storage_value': None,\n",
    "\t\t'my_status': None,\n",
    "\t\t'my_comments': None,\n",
    "\t\t'my_times_watched': int,\n",
    "\t\t'my_rewatch_value': None,\n",
    "\t\t'my_priority': None,\n",
    "\t\t'my_tags': None,\n",
    "\t\t'my_rewatching': int,\n",
    "\t\t'my_rewatching_ep': int,\n",
    "\t\t'my_discuss': int,\n",
    "\t\t'my_sns': None,\n",
    "\n",
    "\t\t# MAL data\n",
    "\t\t'mal_id': int,\n",
    "\t\t'url': None,\n",
    "\t\t'images': None,\n",
    "\t\t'trailer': None,\n",
    "\t\t'approved': None,\n",
    "\t\t'title': None,\n",
    "\t\t'title_english': None,\n",
    "\t\t'title_japanese': None,\n",
    "\t\t'title_synonyms': None,\n",
    "\t\t'type': None,\n",
    "\t\t'source': None,\n",
    "\t\t'episodes': None,\n",
    "\t\t'status': None,\n",
    "\t\t'airing': None,\n",
    "\t\t'aired': None,\n",
    "\t\t'duration': None,\n",
    "\t\t'rating': None,\n",
    "\t\t'score': None,\n",
    "\t\t'scored_by': None,\n",
    "\t\t'rank': None,\n",
    "\t\t'popularity': None,\n",
    "\t\t'members': None,\n",
    "\t\t'favorites': None,\n",
    "\t\t'synopsis': None,\n",
    "\t\t'background': None,\n",
    "\t\t'season': None,\n",
    "\t\t'year': None,\n",
    "\t\t'broadcast': None,\n",
    "\t\t'producers': None,\n",
    "\t\t'licensors': None,\n",
    "\t\t'studios': None,\n",
    "\t\t'genres': None,\n",
    "\t\t'explicit_genres': None,\n",
    "\t\t'themes': None,\n",
    "\t\t'demographics': None,\n",
    "\t}\n",
    "\n",
    "\tdef clean_fields(data: dict, fields: dict):\n",
    "\t\tfor field in list(data.keys()):  # Iterate over a copy of the keys\n",
    "\t\t\tif field not in fields:\n",
    "\t\t\t\tdel data[field]\n",
    "\t\t\telif isinstance(data[field], dict) and isinstance(fields[field], dict):\n",
    "\t\t\t\tclean_fields(data[field], fields[field])\n",
    "\t\t\telif fields[field] is not None and data[field] is not None:\n",
    "\t\t\t\tdata[field] = fields[field](data[field])\n",
    "\n",
    "\tclean_fields(anime, key_map)\n",
    "\n",
    "\treturn anime"
   ]
  },
  {
   "cell_type": "code",
   "execution_count": 5,
   "metadata": {},
   "outputs": [
    {
     "name": "stdout",
     "output_type": "stream",
     "text": [
      "{'my_comments': None,\n",
      " 'my_discuss': 1,\n",
      " 'my_finish_date': '2023-06-28',\n",
      " 'my_priority': 'LOW',\n",
      " 'my_rated': None,\n",
      " 'my_rewatch_value': None,\n",
      " 'my_rewatching': 0,\n",
      " 'my_rewatching_ep': 0,\n",
      " 'my_score': 10,\n",
      " 'my_sns': 'default',\n",
      " 'my_start_date': '0000-00-00',\n",
      " 'my_status': 'Completed',\n",
      " 'my_storage': None,\n",
      " 'my_storage_value': '0.00',\n",
      " 'my_tags': None,\n",
      " 'my_times_watched': 0,\n",
      " 'my_watched_episodes': 11}\n"
     ]
    }
   ],
   "source": [
    "async def fetch_and_complete_anime(anime: dict):\n",
    "\tanime_id = int(anime['series_animedb_id'])\n",
    "\tdetails = await aio_jikan.anime(anime_id)\n",
    "\tcomplete_anime(anime, details)\n",
    "\n",
    "# Complete the first anime and print the result\n",
    "async with AioJikan() as aio_jikan:\n",
    "\tanime = animelist_data[\"anime\"][0]\n",
    "\tawait fetch_and_complete_anime(anime)\n",
    "\tpprint(anime)"
   ]
  },
  {
   "cell_type": "code",
   "execution_count": 6,
   "metadata": {},
   "outputs": [
    {
     "name": "stderr",
     "output_type": "stream",
     "text": [
      "0it [00:00, ?it/s]\n"
     ]
    },
    {
     "ename": "KeyError",
     "evalue": "'series_animedb_id'",
     "output_type": "error",
     "traceback": [
      "\u001b[0;31m---------------------------------------------------------------------------\u001b[0m",
      "\u001b[0;31mKeyError\u001b[0m                                  Traceback (most recent call last)",
      "Cell \u001b[0;32mIn[6], line 5\u001b[0m\n\u001b[1;32m      3\u001b[0m \tanimes \u001b[39m=\u001b[39m animelist_data[\u001b[39m'\u001b[39m\u001b[39manime\u001b[39m\u001b[39m'\u001b[39m]\n\u001b[1;32m      4\u001b[0m \t\u001b[39mfor\u001b[39;00m i, anime \u001b[39min\u001b[39;00m tqdm(\u001b[39menumerate\u001b[39m(animes)):\n\u001b[0;32m----> 5\u001b[0m \t\t\u001b[39mawait\u001b[39;00m fetch_and_complete_anime(anime)\n\u001b[1;32m      6\u001b[0m \t\ttime\u001b[39m.\u001b[39msleep(\u001b[39m1.1\u001b[39m)  \u001b[39m# Delay to ensure we don't exceed rate limit\u001b[39;00m\n\u001b[1;32m      8\u001b[0m \u001b[39m# Save the completed data to a JSON file\u001b[39;00m\n",
      "Cell \u001b[0;32mIn[5], line 2\u001b[0m, in \u001b[0;36mfetch_and_complete_anime\u001b[0;34m(anime)\u001b[0m\n\u001b[1;32m      1\u001b[0m \u001b[39masync\u001b[39;00m \u001b[39mdef\u001b[39;00m \u001b[39mfetch_and_complete_anime\u001b[39m(anime: \u001b[39mdict\u001b[39m):\n\u001b[0;32m----> 2\u001b[0m \tanime_id \u001b[39m=\u001b[39m \u001b[39mint\u001b[39m(anime[\u001b[39m'\u001b[39;49m\u001b[39mseries_animedb_id\u001b[39;49m\u001b[39m'\u001b[39;49m])\n\u001b[1;32m      3\u001b[0m \tdetails \u001b[39m=\u001b[39m \u001b[39mawait\u001b[39;00m aio_jikan\u001b[39m.\u001b[39manime(anime_id)\n\u001b[1;32m      4\u001b[0m \tcomplete_anime(anime, details)\n",
      "\u001b[0;31mKeyError\u001b[0m: 'series_animedb_id'"
     ]
    }
   ],
   "source": [
    "# Complete anime data with Jikan API\n",
    "async with AioJikan() as aio_jikan:\n",
    "\tanimes = animelist_data['anime']\n",
    "\tfor i, anime in tqdm(enumerate(animes)):\n",
    "\t\tawait fetch_and_complete_anime(anime)\n",
    "\t\ttime.sleep(1.1)  # Delay to ensure we don't exceed rate limit\n",
    "\n",
    "# Save the completed data to a JSON file\n",
    "with (data / 'data.json').open('w') as f:\n",
    "\tjson.dump(animelist_data, f)"
   ]
  }
 ],
 "metadata": {
  "kernelspec": {
   "display_name": "Downloads-MKIMYYRW",
   "language": "python",
   "name": "python3"
  },
  "language_info": {
   "codemirror_mode": {
    "name": "ipython",
    "version": 3
   },
   "file_extension": ".py",
   "mimetype": "text/x-python",
   "name": "python",
   "nbconvert_exporter": "python",
   "pygments_lexer": "ipython3",
   "version": "3.11.4"
  },
  "orig_nbformat": 4
 },
 "nbformat": 4,
 "nbformat_minor": 2
}
