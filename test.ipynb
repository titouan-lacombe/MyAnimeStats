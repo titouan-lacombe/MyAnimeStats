{
 "cells": [
  {
   "cell_type": "code",
   "execution_count": null,
   "metadata": {},
   "outputs": [],
   "source": [
    "import httpx\n",
    "import polars as pl\n",
    "from src.user_list import UserList\n",
    "\n",
    "# user_list = UserList()\n",
    "# async with httpx.AsyncClient() as client:\n",
    "# \tuser_list = await UserList.from_web(\"\", client)\n",
    "# \tuser_list.write_parquet(\"data/user_list.parquet\")\n",
    "\n",
    "user_list = pl.read_parquet(\"data/user_list.parquet\")\n",
    "anime_db = pl.read_parquet(\"data/anime.parquet\")\n",
    "\n",
    "# TODO PATCH column names\n",
    "anime_db = anime_db.rename({\n",
    "\t\"mal_id\": \"anime_id\",\n",
    "})\n",
    "\n",
    "# Print common columns\n",
    "# print(set(user_list.columns).intersection(set(anime_db.columns)))\n",
    "\n",
    "# Join on amime_id = mal_id\n",
    "user_animes = user_list.join(anime_db, on=\"anime_id\", how=\"inner\", validate=\"1:1\")\n",
    "\n",
    "if user_animes.height < user_list.height:\n",
    "\tprint(f\"Warning: {user_list.height - user_animes.height} anime not found in database\")"
   ]
  },
  {
   "cell_type": "code",
   "execution_count": null,
   "metadata": {},
   "outputs": [],
   "source": [
    "user_animes = user_animes.sort(\"user_score\", descending=True)\n",
    "user_animes"
   ]
  }
 ],
 "metadata": {
  "kernelspec": {
   "display_name": "mal-scrapper-RBqY7ukF",
   "language": "python",
   "name": "python3"
  },
  "language_info": {
   "codemirror_mode": {
    "name": "ipython",
    "version": 3
   },
   "file_extension": ".py",
   "mimetype": "text/x-python",
   "name": "python",
   "nbconvert_exporter": "python",
   "pygments_lexer": "ipython3",
   "version": "3.11.6"
  }
 },
 "nbformat": 4,
 "nbformat_minor": 2
}
