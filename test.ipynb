{
 "cells": [
  {
   "cell_type": "code",
   "execution_count": null,
   "metadata": {},
   "outputs": [],
   "source": [
    "import os\n",
    "from IPython.display import display, HTML\n",
    "import polars as pl\n",
    "\n",
    "os.environ[\"POLARS_FMT_MAX_ROWS\"] = \"50\"\n",
    "os.environ[\"POLARS_FMT_MAX_COLS\"] = \"50\"\n",
    "os.environ[\"POLARS_FMT_COL_MAX_WIDTH\"] = \"50\"\n",
    "pl.Config(fmt_str_lengths=50)\n",
    "\n",
    "def print_df(df: pl.DataFrame, title=None):\n",
    "\thtml = df._repr_html_()\n",
    "\tif title:\n",
    "\t\thtml = f\"<h3>{title}</h3>\" + html\n",
    "\tdisplay(HTML(html))\n",
    "\n",
    "# import httpx\n",
    "# from src.user_list import UserList\n",
    "# async with httpx.AsyncClient() as client:\n",
    "# \tuser_list = await UserList.from_web(\"cosmicwaves\", client)\n",
    "# \tuser_list.df.sink_parquet(\"data/user_list.parquet\")\n",
    "\n",
    "user_list = pl.read_parquet(\"data/user_list.parquet\")\n",
    "anime_db = pl.scan_parquet(\"data/anime.parquet\")\n",
    "\n",
    "common_cols = set(user_list.columns).intersection(set(anime_db.columns))\n",
    "if len(common_cols) > 1:\n",
    "\traise Exception(f\"Common columns found between user_list and anime_db: {common_cols}\")\n",
    "\n",
    "user_animes = user_list.lazy().join(anime_db, on=\"anime_id\", how=\"inner\", validate=\"1:1\").collect()\n",
    "\n",
    "if user_animes.height < user_list.height:\n",
    "\tprint(f\"Warning: {user_list.height - user_animes.height} anime not found in database\")\n",
    "\n",
    "print_df(user_animes.head(10), \"User Animes\")\n",
    "\n",
    "for col in [\"user_watch_status\", \"user_priority\", \"user_storage\", \"user_added_to_list\", \"user_rewatching\", \"user_scored\"]:\n",
    "\tprint_df(user_animes[col].value_counts().sort(\"count\", descending=True), f\"Value Count '{col}'\")\n"
   ]
  },
  {
   "cell_type": "code",
   "execution_count": null,
   "metadata": {},
   "outputs": [],
   "source": [
    "from src.schedule import Schedule\n",
    "from src.next_releases import NextReleases\n",
    "\n",
    "user_animes = user_animes.lazy()\n",
    "\n",
    "schedule = Schedule.get(user_animes)\n",
    "next_releases = NextReleases.get(user_animes)\n",
    "\n",
    "[schedule, next_releases] = pl.collect_all([schedule, next_releases])\n",
    "\n",
    "schedule = Schedule.from_df(schedule)\n",
    "print_df(schedule, \"Schedule\")\n",
    "print_df(next_releases, \"Next releases\")"
   ]
  }
 ],
 "metadata": {
  "kernelspec": {
   "display_name": "mal-scrapper-RBqY7ukF",
   "language": "python",
   "name": "python3"
  },
  "language_info": {
   "codemirror_mode": {
    "name": "ipython",
    "version": 3
   },
   "file_extension": ".py",
   "mimetype": "text/x-python",
   "name": "python",
   "nbconvert_exporter": "python",
   "pygments_lexer": "ipython3",
   "version": "3.11.6"
  }
 },
 "nbformat": 4,
 "nbformat_minor": 2
}
