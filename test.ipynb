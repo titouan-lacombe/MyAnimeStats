{
 "cells": [
  {
   "cell_type": "code",
   "execution_count": null,
   "metadata": {},
   "outputs": [],
   "source": [
    "import os\n",
    "from datetime import time, date, datetime, timedelta\n",
    "from IPython.display import display, HTML\n",
    "import polars as pl\n",
    "\n",
    "os.environ[\"POLARS_FMT_MAX_ROWS\"] = \"50\"\n",
    "os.environ[\"POLARS_FMT_MAX_COLS\"] = \"50\"\n",
    "os.environ[\"POLARS_FMT_COL_MAX_WIDTH\"] = \"50\"\n",
    "pl.Config(fmt_str_lengths=50)\n",
    "\n",
    "def print_df(df: pl.DataFrame, title=None):\n",
    "\thtml = df._repr_html_()\n",
    "\tif title:\n",
    "\t\thtml = f\"<h3>{title}</h3>\" + html\n",
    "\tdisplay(HTML(html))\n",
    "\n",
    "now = datetime.now()\n",
    "\n",
    "# import httpx\n",
    "# from src.user_list import UserList\n",
    "# async with httpx.AsyncClient() as client:\n",
    "# \tuser_list = await UserList.from_web(\"cosmicwaves\", client)\n",
    "# \tuser_list.df.sink_parquet(\"data/user_list.parquet\")\n",
    "\n",
    "user_list = pl.read_parquet(\"data/user_list.parquet\")\n",
    "anime_db = pl.scan_parquet(\"data/anime.parquet\")\n",
    "\n",
    "common_cols = set(user_list.columns).intersection(set(anime_db.columns))\n",
    "if len(common_cols) > 1:\n",
    "\traise Exception(f\"Common columns found between user_list and anime_db: {common_cols}\")\n",
    "\n",
    "user_animes = user_list.lazy().join(anime_db, on=\"anime_id\", how=\"inner\", validate=\"1:1\").collect()\n",
    "\n",
    "if user_animes.height < user_list.height:\n",
    "\tprint(f\"Warning: {user_list.height - user_animes.height} anime not found in database\")\n",
    "\n",
    "print_df(user_animes.head(10), \"User Animes\")\n",
    "\n",
    "for col in [\"user_watch_status\", \"user_priority\", \"user_storage\", \"user_added_to_list\", \"user_rewatching\", \"user_scored\"]:\n",
    "\tprint_df(user_animes[col].value_counts().sort(\"count\", descending=True), f\"Value Count '{col}'\")\n"
   ]
  },
  {
   "cell_type": "code",
   "execution_count": null,
   "metadata": {},
   "outputs": [],
   "source": [
    "# TODO build every lazy frame needed and then pl.gather\n",
    "from src.schedule import Schedule\n",
    "\n",
    "user_animes = user_animes.lazy()\n",
    "\n",
    "schedule = Schedule.from_user_animes(user_animes)\n",
    "print_df(schedule)\n",
    "\n",
    "next_releases = user_animes.filter((pl.col(\"user_watch_status\") == \"Plan to Watch\") & (pl.col(\"air_status\") == \"Not yet aired\")).sort(\"air_start\", nulls_last=True).select(\n",
    "\t\"title\",\n",
    "\t# \"air_start\",\n",
    "\t# \"air_time\",\n",
    "\t\"air_tz\",\n",
    "\tdatetime = pl.col(\"air_start\").dt.combine(pl.col(\"air_time\").replace(None, time(0, 0))),\n",
    "\t# text = pl.format(\n",
    "\t# \t\"{} at {} ({})\",\n",
    "\t# \tpl.col(\"air_start\").dt.to_string(\"%A %d %B %Y\"),\n",
    "\t# \tpl.col(\"air_time\").dt.to_string(\"at %H:%M\"),\n",
    "\t# \tpl.col(\"air_tz\"),\n",
    "\t# ),\n",
    ").collect()\n",
    "print_df(next_releases, \"Next releases\")"
   ]
  }
 ],
 "metadata": {
  "kernelspec": {
   "display_name": "mal-scrapper-RBqY7ukF",
   "language": "python",
   "name": "python3"
  },
  "language_info": {
   "codemirror_mode": {
    "name": "ipython",
    "version": 3
   },
   "file_extension": ".py",
   "mimetype": "text/x-python",
   "name": "python",
   "nbconvert_exporter": "python",
   "pygments_lexer": "ipython3",
   "version": "3.11.6"
  }
 },
 "nbformat": 4,
 "nbformat_minor": 2
}
