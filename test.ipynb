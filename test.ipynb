{
 "cells": [
  {
   "cell_type": "code",
   "execution_count": null,
   "metadata": {},
   "outputs": [],
   "source": [
    "import os\n",
    "from IPython.display import display, HTML\n",
    "import polars as pl\n",
    "\n",
    "os.environ[\"POLARS_FMT_MAX_ROWS\"] = \"50\"\n",
    "os.environ[\"POLARS_FMT_MAX_COLS\"] = \"50\"\n",
    "os.environ[\"POLARS_FMT_COL_MAX_WIDTH\"] = \"50\"\n",
    "pl.Config(fmt_str_lengths=50)\n",
    "\n",
    "def print_df(df: pl.DataFrame, title=None):\n",
    "\thtml = df._repr_html_()\n",
    "\tif title:\n",
    "\t\thtml = f\"<h3>{title}</h3>\" + html\n",
    "\tdisplay(HTML(html))"
   ]
  },
  {
   "cell_type": "code",
   "execution_count": null,
   "metadata": {},
   "outputs": [],
   "source": [
    "from src.actions import get_user_animes\n",
    "\n",
    "# import httpx\n",
    "# from src.user_list import UserList\n",
    "# async with httpx.AsyncClient() as client:\n",
    "# \tuser_list = await UserList.from_web(\"cosmicwaves\", client)\n",
    "# \tuser_list.df.sink_parquet(\"data/user_list.parquet\")\n",
    "\n",
    "user_list = pl.read_parquet(\"data/user_list.parquet\")\n",
    "user_animes = get_user_animes(user_list)\n",
    "\n",
    "print_df(user_animes.head(5), \"User Animes\")\n",
    "\n",
    "for col in [\"user_watch_status\", \"user_priority\", \"user_storage\", \"user_added_to_list\", \"user_rewatching\", \"user_scored\"]:\n",
    "\tprint_df(user_animes[col].value_counts().sort(\"count\", descending=True), f\"Value Count '{col}'\")"
   ]
  },
  {
   "cell_type": "code",
   "execution_count": null,
   "metadata": {},
   "outputs": [],
   "source": [
    "from src.actions import get_stats\n",
    "\n",
    "stats = get_stats(user_animes)\n",
    "\n",
    "for stat, value in stats.items():\n",
    "\tprint_df(value, stat)"
   ]
  }
 ],
 "metadata": {
  "kernelspec": {
   "display_name": "mal-scrapper-RBqY7ukF",
   "language": "python",
   "name": "python3"
  },
  "language_info": {
   "codemirror_mode": {
    "name": "ipython",
    "version": 3
   },
   "file_extension": ".py",
   "mimetype": "text/x-python",
   "name": "python",
   "nbconvert_exporter": "python",
   "pygments_lexer": "ipython3",
   "version": "3.11.6"
  }
 },
 "nbformat": 4,
 "nbformat_minor": 2
}
