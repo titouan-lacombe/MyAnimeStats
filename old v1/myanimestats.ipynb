{
 "cells": [
  {
   "cell_type": "markdown",
   "metadata": {},
   "source": [
    "# MyAnimeStats\n",
    "\n",
    "Explore insightful statistics about a [MyAnimeList](https://myanimelist.net/) user list.\n",
    "\n",
    "## List Import\n",
    "\n",
    "Importer script"
   ]
  },
  {
   "cell_type": "code",
   "execution_count": null,
   "metadata": {},
   "outputs": [],
   "source": [
    "import pandas as pd\n",
    "from IPython.display import display, HTML\n",
    "from pathlib import Path\n",
    "from src.log import logger\n",
    "from src.api import import_data\n",
    "\n",
    "log = logger.getChild(\"main\")\n",
    "data = Path('data')\n",
    "pd.set_option('display.max_rows', None)\n",
    "\n",
    "# Get username\n",
    "def get_username():\n",
    "    file = data / 'username.txt'\n",
    "    try:\n",
    "        return file.read_text().strip()\n",
    "    except:\n",
    "        log.warning(f\"Failed to load {file}\")\n",
    "        pass\n",
    "\n",
    "    try:\n",
    "        return input('Enter your MAL username: ')\n",
    "    except:\n",
    "        log.warning('Failed to get username')\n",
    "        pass\n",
    "\n",
    "    return None\n",
    "\n",
    "def get_xml():\n",
    "    file = data / 'animelist.xml.gz'\n",
    "    try:\n",
    "        return file.open('rb')\n",
    "    except:\n",
    "        log.warning(f\"Failed to load {file}\")\n",
    "        pass\n",
    "\n",
    "    return None\n",
    "\n",
    "# Prioritize xml\n",
    "xml = get_xml()\n",
    "\n",
    "# Get username\n",
    "if xml is None:\n",
    "    username = get_username()\n",
    "\n",
    "# Load data\n",
    "animes, staff = await import_data(username=username, export_file=xml)\n",
    "df_animes = pd.DataFrame(animes)\n",
    "\n",
    "display(HTML(\"<h3>MyAnimeStats successfully imported data.</h3>\"))"
   ]
  },
  {
   "cell_type": "markdown",
   "metadata": {},
   "source": [
    "## Best scored franchises\n",
    "\n",
    "What anime franchises do you like the most?"
   ]
  },
  {
   "cell_type": "code",
   "execution_count": null,
   "metadata": {},
   "outputs": [],
   "source": [
    "from src.franchises import get_franchises\n",
    "\n",
    "franchises = get_franchises(animes)\n",
    "df = pd.DataFrame(franchises)\n",
    "\n",
    "# Get the top 10 franchises\n",
    "top_10 = df.sort_values('my_score', ascending=False).head(10)\n",
    "top_10 = top_10[[\n",
    "\t'title_english',\n",
    "\t'my_score',\n",
    "\t'score',\n",
    "\t'genres',\n",
    "\t'themes',\n",
    "\t'demographics',\n",
    "\t'episodes',\n",
    "\t'studios',\n",
    "]]\n",
    "\n",
    "header = \"<h3>Best scored franchises</h3>\"\n",
    "display(HTML(header + top_10.to_html(index=False)))"
   ]
  },
  {
   "cell_type": "markdown",
   "metadata": {},
   "source": [
    "## Air Schedule\n",
    "\n",
    "When does the next episode air?"
   ]
  },
  {
   "cell_type": "code",
   "execution_count": null,
   "metadata": {},
   "outputs": [],
   "source": [
    "import time\n",
    "from src.schedule import get_schedule\n",
    "\n",
    "schedule = get_schedule(animes)\n",
    "\n",
    "def get_local_tz_name():\n",
    "\t# Get the current local time\n",
    "\tlocal_time = time.localtime()\n",
    "\t# Get the timezone name based on whether DST is in effect\n",
    "\tis_dst = local_time.tm_isdst\n",
    "\treturn time.tzname[is_dst] if is_dst in [0, 1] else 'Unknown'\n",
    "\n",
    "# Show schedule\n",
    "if schedule is None:\n",
    "\tdisplay(HTML(\"<h3>User is not watching anything currently airing</h3>\"))\n",
    "else:\n",
    "\theader = f\"<h3>Currently airing shows</h3><h4>Japan air time converted to {get_local_tz_name()}</h4>\"\n",
    "\tdisplay(HTML(header + schedule.to_html(index=False)))"
   ]
  },
  {
   "cell_type": "markdown",
   "metadata": {},
   "source": [
    "## Scores stats\n",
    "\n",
    "How do you score anime and how does it compare to others?"
   ]
  },
  {
   "cell_type": "code",
   "execution_count": null,
   "metadata": {},
   "outputs": [],
   "source": [
    "import matplotlib.pyplot as plt\n",
    "import seaborn as sns\n",
    "\n",
    "# Create the figure and subplots for histograms\n",
    "fig, axs = plt.subplots(1, 2, figsize=(14, 6))\n",
    "\n",
    "# Histograms of 'score' and 'my_score'\n",
    "sns.histplot(df['score'], kde=True, bins=30, ax=axs[0])\n",
    "axs[0].set_title('MyAnimeList Score Distribution of Franchises')\n",
    "axs[0].set_xlabel('MyAnimeList Score')\n",
    "axs[0].set_ylabel('Density')\n",
    "\n",
    "df['my_score_rounded'] = df['my_score'].round(0)\n",
    "sns.histplot(df['my_score_rounded'], kde=True, bins=30, ax=axs[1])\n",
    "axs[1].set_title('User Score Distribution of Franchises')\n",
    "axs[1].set_xlabel('User Score')\n",
    "axs[1].set_ylabel('Density')\n",
    "\n",
    "# Average user score by air year\n",
    "(fig, axs) = plt.subplots(1, 1, figsize=(14, 6))\n",
    "sns.histplot(df_animes, x='year', y='my_score', bins=30, ax=axs)\n",
    "axs.set_title('User Score Distribution by Air Year')\n",
    "axs.set_xlabel('Start Year')\n",
    "axs.set_ylabel('Average User Score')\n",
    "\n",
    "plt.tight_layout()\n",
    "plt.show()"
   ]
  },
  {
   "cell_type": "markdown",
   "metadata": {},
   "source": [
    "## Genres, Themes, and Studios stats\n",
    "\n",
    "What are your favorite genres, themes, and studios?"
   ]
  },
  {
   "cell_type": "code",
   "execution_count": null,
   "metadata": {},
   "outputs": [],
   "source": [
    "# Helper function for generating box plots\n",
    "def box_plot(data, x, y, title, xlabel, ylabel, order):\n",
    "    if data[x].notna().any():  # Check if there are any non-null values\n",
    "        plt.figure(figsize=(14, 6))\n",
    "        sns.boxplot(x=x, y=y, data=data, order=order)\n",
    "        plt.title(title)\n",
    "        plt.xlabel(xlabel)\n",
    "        plt.ylabel(ylabel)\n",
    "        plt.xticks(rotation=90)\n",
    "        plt.show()\n",
    "\n",
    "# Unnest 'genres', 'themes', and 'studios' fields and create box plots\n",
    "for field in ['genres', 'themes', 'studios', 'demographics']:\n",
    "    df_unnested = df.explode(field).reset_index(drop=True)\n",
    "\n",
    "    # Filter out entries with too few data points\n",
    "    threshold = 8\n",
    "    df_unnested = df_unnested.groupby(field).filter(lambda x: len(x) >= threshold)\n",
    "\n",
    "    # Sort by descending median my_score\n",
    "    order = df_unnested.groupby(field)['my_score'].median().sort_values(ascending=False).index\n",
    "\n",
    "    box_plot(df_unnested, field, 'my_score', f'User Score Distribution by {field.capitalize()}', field.capitalize(), 'My Score', order)\n"
   ]
  },
  {
   "cell_type": "markdown",
   "metadata": {},
   "source": [
    "## Most unpopular opinions\n",
    "\n",
    "What franchises do you score very differently than the community?"
   ]
  },
  {
   "cell_type": "code",
   "execution_count": null,
   "metadata": {},
   "outputs": [],
   "source": [
    "# Rank scaled score\n",
    "def scale_scores(scores: pd.DataFrame) -> pd.DataFrame:\n",
    "    \"\"\"Scale scores to a range of 0 to 1 using rank scaling.\"\"\"\n",
    "    ranks = scores.rank(ascending=False)\n",
    "    scaled = 1 - (ranks - 1) / (len(scores) - 1)\n",
    "    return scaled\n",
    "\n",
    "# Ignore NaN scores\n",
    "df_notna = df[df['score'].notna()]\n",
    "df_notna = df_notna[df_notna['my_score'].notna()]\n",
    "\n",
    "# Scaled score to remove my own bias\n",
    "df_notna['score_scaled'] = scale_scores(df_notna['score'])\n",
    "df_notna['my_score_scaled'] = scale_scores(df_notna['my_score'])\n",
    "\n",
    "df_notna['score_difference'] = df_notna['my_score_scaled'] - df_notna['score_scaled']\n",
    "df_notna['score_difference_abs'] = (df_notna['score_difference']).abs()\n",
    "df_sorted_abs = df_notna.sort_values(by='score_difference_abs', ascending=False)\n",
    "\n",
    "header = \"<h3>Most unpopular opinions</h3>\"\n",
    "df_sorted_abs_head = df_sorted_abs[['title_english', 'score_difference']].head(10)\n",
    "display(HTML(header + df_sorted_abs_head.to_html(index=False)))"
   ]
  },
  {
   "cell_type": "markdown",
   "metadata": {},
   "source": [
    "## Normie-ness\n",
    "\n",
    "How popular are your opinions?"
   ]
  },
  {
   "cell_type": "code",
   "execution_count": null,
   "metadata": {},
   "outputs": [],
   "source": [
    "normie_ness = 1 - (df_sorted_abs[\"score_difference_abs\"].mean() * 2)\n",
    "display(HTML(f\"<h3>Normie-ness: {normie_ness:.2%}</h3>\"))"
   ]
  },
  {
   "cell_type": "markdown",
   "metadata": {},
   "source": [
    "## My opinion vs the world's\n",
    "\n",
    "Is your scoring similar to the community?"
   ]
  },
  {
   "cell_type": "code",
   "execution_count": null,
   "metadata": {},
   "outputs": [],
   "source": [
    "# Define the color thresholds using List of Tuples\n",
    "color_thresholds = [\n",
    "    (0.05, 'green'),\n",
    "    (0.15, 'orange'),\n",
    "]\n",
    "\n",
    "# Define a function to get color based on score difference and the List of Tuples representation\n",
    "def get_color(score_diff, thresholds):\n",
    "    for threshold, color in thresholds:\n",
    "        if score_diff <= threshold:\n",
    "            return color\n",
    "    return 'red'\n",
    "\n",
    "# Apply the function to the dataframe\n",
    "df_notna['Color'] = df_notna['score_difference_abs'].apply(lambda x: get_color(x, color_thresholds))\n",
    "\n",
    "# Using the provided code to plot the scatter plot\n",
    "ax = df_notna.plot.scatter(x='my_score_scaled', y='score_scaled', c=df_notna['Color'], figsize=(10, 10), alpha=0.7, s=50, edgecolor='k')\n",
    "\n",
    "# y=x guide line\n",
    "ax.plot([0, 1], [0, 1], 'k--', linewidth=0.5)\n",
    "\n",
    "plt.title('User Score vs MyAnimeList Score')\n",
    "plt.xlabel('User Score')\n",
    "plt.ylabel('MyAnimeList Score')\n",
    "plt.grid(True, which='both', linestyle='--', linewidth=0.5)\n",
    "plt.xlim(0, 1)\n",
    "plt.ylim(0, 1)\n",
    "plt.show()"
   ]
  },
  {
   "cell_type": "markdown",
   "metadata": {},
   "source": [
    "## Co-occurrence stats\n",
    "\n",
    "What are the most common combinations of genres and themes?"
   ]
  },
  {
   "cell_type": "code",
   "execution_count": null,
   "metadata": {},
   "outputs": [],
   "source": [
    "from sklearn.preprocessing import MultiLabelBinarizer\n",
    "import numpy as np\n",
    "\n",
    "def draw_co_occurrence_matrix(data, title):\n",
    "    \"\"\"Draw a co-occurrence matrix with a title and masks the upper triangle.\"\"\"\n",
    "    co_occurrence_matrix = np.dot(data.transpose(), data)\n",
    "    co_occurrence_df = pd.DataFrame(co_occurrence_matrix, index=data.columns, columns=data.columns)\n",
    "    mask = np.triu(np.ones_like(co_occurrence_df, dtype=bool))\n",
    "    plt.figure(figsize=(10, 10))\n",
    "    sns.heatmap(co_occurrence_df, mask=mask, cmap='coolwarm', center=0, annot=False, fmt='d')\n",
    "    plt.title(title)\n",
    "    plt.show()\n",
    "\n",
    "# Initialize MultiLabelBinarizer object\n",
    "mlb = MultiLabelBinarizer()\n",
    "\n",
    "# Extract and one-hot encode genres and themes\n",
    "for feature in ['genres', 'themes']:\n",
    "    feature_list = [franchise[feature] for franchise in franchises]\n",
    "    feature_encoded = mlb.fit_transform(feature_list)\n",
    "    df_feature = pd.DataFrame(feature_encoded, columns=mlb.classes_)\n",
    "    draw_co_occurrence_matrix(df_feature, f'{feature.capitalize()} Co-occurrence Matrix')"
   ]
  },
  {
   "cell_type": "markdown",
   "metadata": {},
   "source": [
    "## Reoccurring staff members\n",
    "\n",
    "Who worked on a lot of anime you loved?"
   ]
  },
  {
   "cell_type": "code",
   "execution_count": null,
   "metadata": {},
   "outputs": [],
   "source": [
    "# Show staff\n",
    "from src.staff import reoccurring_staff\n",
    "display(HTML(reoccurring_staff(staff, show_top=10)))"
   ]
  }
 ],
 "metadata": {
  "kernelspec": {
   "display_name": "Python 3 (ipykernel)",
   "language": "python",
   "name": "python3"
  },
  "language_info": {
   "codemirror_mode": {
    "name": "ipython",
    "version": 3
   },
   "file_extension": ".py",
   "mimetype": "text/x-python",
   "name": "python",
   "nbconvert_exporter": "python",
   "pygments_lexer": "ipython3",
   "version": "3.12.3"
  }
 },
 "nbformat": 4,
 "nbformat_minor": 4
}
