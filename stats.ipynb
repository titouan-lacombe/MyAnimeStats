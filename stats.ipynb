{
 "cells": [
  {
   "cell_type": "code",
   "execution_count": null,
   "metadata": {},
   "outputs": [],
   "source": [
    "import json, gzip\n",
    "import pandas as pd\n",
    "import numpy as np\n",
    "import matplotlib.pyplot as plt\n",
    "import seaborn as sns\n",
    "from pprint import pprint\n",
    "from pathlib import Path\n",
    "\n",
    "data = Path('data')\n",
    "pd.set_option('display.max_rows', None)\n",
    "\n",
    "# Load the json file\n",
    "with gzip.open(data / 'franchises.json.gz', 'rt') as f:\n",
    "\tfranchises = json.load(f)\n",
    "\n",
    "# Convert the franchises list to a dataframe\n",
    "df = pd.DataFrame(franchises)\n",
    "\n",
    "# Show the dataframe\n",
    "df = df.sort_values(by=['my_score'], ascending=False)\n",
    "df"
   ]
  },
  {
   "cell_type": "code",
   "execution_count": null,
   "metadata": {},
   "outputs": [],
   "source": [
    "# Create the figure and subplots for histograms\n",
    "fig, axs = plt.subplots(1, 2, figsize=(14, 6))\n",
    "\n",
    "# Histograms of 'score' and 'my_score'\n",
    "sns.histplot(df['score'], kde=True, bins=30, ax=axs[0])\n",
    "axs[0].set_title('Score Distribution of Franchises')\n",
    "axs[0].set_xlabel('Score')\n",
    "axs[0].set_ylabel('Density')\n",
    "\n",
    "df['my_score_rounded'] = df['my_score'].round(0)\n",
    "sns.histplot(df['my_score_rounded'], kde=True, bins=30, ax=axs[1])\n",
    "axs[1].set_title('My Score Distribution of Franchises')\n",
    "axs[1].set_xlabel('My Score')\n",
    "axs[1].set_ylabel('Density')\n",
    "\n",
    "plt.tight_layout()\n",
    "plt.show()\n",
    "\n",
    "# Helper function for generating box plots\n",
    "def box_plot(data, x, y, title, xlabel, ylabel):\n",
    "    if data[x].notna().any():  # Check if there are any non-null values\n",
    "        plt.figure(figsize=(14, 6))\n",
    "        sns.boxplot(x=x, y=y, data=data, order=order)\n",
    "        plt.title(title)\n",
    "        plt.xlabel(xlabel)\n",
    "        plt.ylabel(ylabel)\n",
    "        plt.xticks(rotation=90)\n",
    "        plt.show()\n",
    "\n",
    "# Unnest 'genres', 'themes', and 'studios' fields and create box plots\n",
    "for field in ['genres', 'themes', 'studios', 'demographics']:\n",
    "    df_unnested = df.explode(field)\n",
    "    \n",
    "    # Sort by descending average my_score\n",
    "    order = df_unnested.groupby(field)['my_score'].median().sort_values(ascending=False).index\n",
    "    \n",
    "    box_plot(df_unnested, field, 'my_score', f'My Score Distribution by {field.capitalize()}', field.capitalize(), 'My Score')"
   ]
  },
  {
   "cell_type": "code",
   "execution_count": null,
   "metadata": {},
   "outputs": [],
   "source": [
    "from sklearn.preprocessing import MultiLabelBinarizer\n",
    "\n",
    "def draw_co_occurrence_matrix(data, title):\n",
    "    \"\"\"Draw a co-occurrence matrix with a title and masks the upper triangle.\"\"\"\n",
    "    co_occurrence_matrix = np.dot(data.transpose(), data)\n",
    "    co_occurrence_df = pd.DataFrame(co_occurrence_matrix, index=data.columns, columns=data.columns)\n",
    "    mask = np.triu(np.ones_like(co_occurrence_df, dtype=bool))\n",
    "    plt.figure(figsize=(10, 10))\n",
    "    sns.heatmap(co_occurrence_df, mask=mask, cmap='coolwarm', center=0, annot=False, fmt='d')\n",
    "    plt.title(title)\n",
    "    plt.show()\n",
    "\n",
    "# Initialize MultiLabelBinarizer object\n",
    "mlb = MultiLabelBinarizer()\n",
    "\n",
    "# Extract and one-hot encode genres and themes\n",
    "for feature in ['genres', 'themes']:\n",
    "    feature_list = [franchise[feature] for franchise in franchises]\n",
    "    feature_encoded = mlb.fit_transform(feature_list)\n",
    "    df_feature = pd.DataFrame(feature_encoded, columns=mlb.classes_)\n",
    "    draw_co_occurrence_matrix(df_feature, f'{feature.capitalize()} Co-occurrence Matrix')"
   ]
  },
  {
   "cell_type": "markdown",
   "metadata": {},
   "source": [
    "# Most unpopular opinions"
   ]
  },
  {
   "cell_type": "code",
   "execution_count": null,
   "metadata": {},
   "outputs": [],
   "source": [
    "# Rank scaled score\n",
    "def scale_scores(scores: pd.DataFrame) -> pd.DataFrame:\n",
    "\t\"\"\"Scale scores to a range of 0 to 1 using rank scaling.\"\"\"\n",
    "\tranks = scores.rank(ascending=False)\n",
    "\tscaled = 1 - (ranks - 1) / (len(scores) - 1)\n",
    "\treturn scaled\n",
    "\n",
    "# Scaled score to remove my own bias\n",
    "df['score_scaled'] = scale_scores(df['score'])\n",
    "df['my_score_scaled'] = scale_scores(df['my_score'])\n",
    "\n",
    "df['score_difference'] = df['my_score_scaled'] - df['score_scaled']\n",
    "df['score_difference_abs'] = (df['score_difference']).abs()\n",
    "df_sorted_abs = df.sort_values(by='score_difference_abs', ascending=False)\n",
    "df_sorted_abs[['title', 'score_scaled', 'my_score_scaled', 'score_difference']]"
   ]
  },
  {
   "cell_type": "markdown",
   "metadata": {},
   "source": [
    "# My opinion vs the world's"
   ]
  },
  {
   "cell_type": "code",
   "execution_count": null,
   "metadata": {},
   "outputs": [],
   "source": [
    "# Define the color thresholds using List of Tuples\n",
    "color_thresholds = [\n",
    "    (0.05, 'green'),\n",
    "    (0.15, 'orange'),\n",
    "]\n",
    "\n",
    "# Define a function to get color based on score difference and the List of Tuples representation\n",
    "def get_color(score_diff, thresholds):\n",
    "    for threshold, color in thresholds:\n",
    "        if score_diff <= threshold:\n",
    "            return color\n",
    "    return 'red'\n",
    "\n",
    "# Apply the function to the dataframe\n",
    "df['Color'] = df['score_difference_abs'].apply(lambda x: get_color(x, color_thresholds))\n",
    "\n",
    "# Using the provided code to plot the scatter plot\n",
    "ax = df.plot.scatter(x='my_score_scaled', y='score_scaled', c=df['Color'], figsize=(10, 10), alpha=0.7, s=50, edgecolor='k')\n",
    "\n",
    "# y=x guide line\n",
    "ax.plot([0, 1], [0, 1], 'k--', linewidth=0.5)\n",
    "\n",
    "plt.title('My Score vs Crowd Score')\n",
    "plt.xlabel('My Score')\n",
    "plt.ylabel('Crowd Score')\n",
    "plt.grid(True, which='both', linestyle='--', linewidth=0.5)\n",
    "plt.xlim(0, 1)\n",
    "plt.ylim(0, 1)\n",
    "plt.show()"
   ]
  }
 ],
 "metadata": {
  "kernelspec": {
   "display_name": "myanimestats-ScZBfrK1",
   "language": "python",
   "name": "python3"
  },
  "language_info": {
   "codemirror_mode": {
    "name": "ipython",
    "version": 3
   },
   "file_extension": ".py",
   "mimetype": "text/x-python",
   "name": "python",
   "nbconvert_exporter": "python",
   "pygments_lexer": "ipython3",
   "version": "3.11.6"
  },
  "orig_nbformat": 4
 },
 "nbformat": 4,
 "nbformat_minor": 2
}
